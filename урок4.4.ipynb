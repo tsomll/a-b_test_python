{
 "cells": [
  {
   "cell_type": "code",
   "execution_count": 1,
   "id": "1edd76e7-7468-4895-869b-52e4f21cda06",
   "metadata": {},
   "outputs": [],
   "source": [
    "import pandas as pd\n",
    "import pandahouse\n",
    "import seaborn as sns\n",
    "import matplotlib.pyplot as plt\n",
    "import numpy as np\n",
    "import hashlib\n",
    "import swifter\n",
    "from scipy import stats\n",
    "%matplotlib inline"
   ]
  },
  {
   "cell_type": "markdown",
   "id": "78897f91-2400-4faf-bf02-24bcf0e5e7e8",
   "metadata": {},
   "source": [
    "Задача: применить метод линеаризации для оценки метрики CTR.\n",
    "\n",
    "Проанализировать разницу между группами:\n",
    "- 0 и 3  \n",
    "- 1 и 2  \n",
    "по метрике линеаризованных лайков.\n",
    "\n",
    "Суть метода:\n",
    "Вычислить общий CTR в контрольной группе и посчитать поюзерную метрику:\n",
    "Затем сравнить группы с помощью t-теста по новой метрике.\n",
    "Сравнить полученные p-value с результатами анализа обычного CTR."
   ]
  },
  {
   "cell_type": "code",
   "execution_count": 2,
   "id": "bede1044-9e17-4f31-b09f-d29c30f1cf43",
   "metadata": {},
   "outputs": [],
   "source": [
    "connection = {\n",
    "    'host': 'https://clickhouse.lab.karpov.courses',\n",
    "    'password': 'dpo_python_2020',\n",
    "    'user': 'student',\n",
    "    'database': 'simulator_20250220'\n",
    "}"
   ]
  },
  {
   "cell_type": "code",
   "execution_count": 18,
   "id": "f15f6c39-097e-4b9b-8c82-ea5dbf4411d0",
   "metadata": {},
   "outputs": [
    {
     "data": {
      "text/html": [
       "<div>\n",
       "<style scoped>\n",
       "    .dataframe tbody tr th:only-of-type {\n",
       "        vertical-align: middle;\n",
       "    }\n",
       "\n",
       "    .dataframe tbody tr th {\n",
       "        vertical-align: top;\n",
       "    }\n",
       "\n",
       "    .dataframe thead th {\n",
       "        text-align: right;\n",
       "    }\n",
       "</style>\n",
       "<table border=\"1\" class=\"dataframe\">\n",
       "  <thead>\n",
       "    <tr style=\"text-align: right;\">\n",
       "      <th></th>\n",
       "      <th>user_id</th>\n",
       "      <th>likes</th>\n",
       "      <th>views</th>\n",
       "      <th>ctr</th>\n",
       "    </tr>\n",
       "    <tr>\n",
       "      <th>exp_group</th>\n",
       "      <th></th>\n",
       "      <th></th>\n",
       "      <th></th>\n",
       "      <th></th>\n",
       "    </tr>\n",
       "  </thead>\n",
       "  <tbody>\n",
       "    <tr>\n",
       "      <th>1</th>\n",
       "      <td>10020</td>\n",
       "      <td>10020</td>\n",
       "      <td>10020</td>\n",
       "      <td>10020</td>\n",
       "    </tr>\n",
       "    <tr>\n",
       "      <th>2</th>\n",
       "      <td>9877</td>\n",
       "      <td>9877</td>\n",
       "      <td>9877</td>\n",
       "      <td>9877</td>\n",
       "    </tr>\n",
       "  </tbody>\n",
       "</table>\n",
       "</div>"
      ],
      "text/plain": [
       "           user_id  likes  views    ctr\n",
       "exp_group                              \n",
       "1            10020  10020  10020  10020\n",
       "2             9877   9877   9877   9877"
      ]
     },
     "execution_count": 18,
     "metadata": {},
     "output_type": "execute_result"
    }
   ],
   "source": [
    "q = \"\"\"\n",
    "SELECT exp_group, \n",
    "    user_id,\n",
    "    sum(action = 'like') as likes,\n",
    "    sum(action = 'view') as views,\n",
    "    likes/views as ctr\n",
    "FROM {db}.feed_actions \n",
    "WHERE toDate(time) between '2025-01-31' and '2025-02-06'\n",
    "    and exp_group in (1,2)\n",
    "GROUP BY exp_group, user_id\n",
    "\"\"\"\n",
    "\n",
    "df = pandahouse.read_clickhouse(q, connection=connection)\n",
    "\n",
    "df.groupby('exp_group').count()"
   ]
  },
  {
   "cell_type": "code",
   "execution_count": 21,
   "id": "7f6d8066-2648-479c-a5aa-dcf75fc084d7",
   "metadata": {},
   "outputs": [
    {
     "data": {
      "image/png": "[encoded data removed]",
      "text/plain": [
       "<Figure size 432x288 with 1 Axes>"
      ]
     },
     "metadata": {
      "needs_background": "light"
     },
     "output_type": "display_data"
    }
   ],
   "source": [
    "groups = sns.histplot(data = df, \n",
    "              x='ctr', \n",
    "              hue='exp_group', \n",
    "              palette = ['r', 'b'],\n",
    "              alpha=0.5,\n",
    "              kde=False)"
   ]
  },
  {
   "cell_type": "code",
   "execution_count": 22,
   "id": "b9faa5bb-d4b2-4b26-82cd-bc864b2634e9",
   "metadata": {},
   "outputs": [
    {
     "data": {
      "text/plain": [
       "Ttest_indResult(statistic=0.4051491913112757, pvalue=0.685373331140751)"
      ]
     },
     "execution_count": 22,
     "metadata": {},
     "output_type": "execute_result"
    }
   ],
   "source": [
    "stats.ttest_ind(df[df.exp_group == 1].ctr,\n",
    "                df[df.exp_group == 2].ctr,\n",
    "                equal_var=False)"
   ]
  },
  {
   "cell_type": "code",
   "execution_count": 23,
   "id": "163f497e-692c-4921-911e-37b0e3a35652",
   "metadata": {},
   "outputs": [
    {
     "data": {
      "text/plain": [
       "MannwhitneyuResult(statistic=55189913.0, pvalue=4.632205841806026e-45)"
      ]
     },
     "execution_count": 23,
     "metadata": {},
     "output_type": "execute_result"
    }
   ],
   "source": [
    "stats.mannwhitneyu(df[df.exp_group == 1].ctr, \n",
    "                   df[df.exp_group == 2].ctr,\n",
    "                   alternative = 'two-sided')"
   ]
  },
  {
   "cell_type": "code",
   "execution_count": 24,
   "id": "0493d83c-1b6c-4465-93c0-f56542808f9e",
   "metadata": {},
   "outputs": [],
   "source": [
    "ctr_control = df[df.exp_group == 1]['likes'].sum() / df[df.exp_group == 1]['views'].sum()\n",
    "\n",
    "#Добавляем новую метрику \"линеаризованные лайки\"\n",
    "df['linearized_likes'] = df['likes'] - ctr_control * df['views']"
   ]
  },
  {
   "cell_type": "code",
   "execution_count": 25,
   "id": "8795b449-ec04-4e69-9922-125f6d7b63b4",
   "metadata": {},
   "outputs": [
    {
     "data": {
      "text/plain": [
       "0        -0.144062\n",
       "1         2.445813\n",
       "2         2.698896\n",
       "3         9.445813\n",
       "4         0.292667\n",
       "           ...    \n",
       "19892   -16.330957\n",
       "19893    -1.366646\n",
       "19894    15.380271\n",
       "19895     8.406229\n",
       "19896    -8.187541\n",
       "Name: linearized_likes, Length: 19897, dtype: float64"
      ]
     },
     "execution_count": 25,
     "metadata": {},
     "output_type": "execute_result"
    }
   ],
   "source": [
    "df['linearized_likes']"
   ]
  },
  {
   "cell_type": "code",
   "execution_count": 26,
   "id": "1da53810-969c-4e01-9a0d-253012d00d70",
   "metadata": {},
   "outputs": [
    {
     "name": "stdout",
     "output_type": "stream",
     "text": [
      "T-test p-value (linearized likes): 2.9805064038668164e-09\n"
     ]
    }
   ],
   "source": [
    "t_stat, p_value = stats.ttest_ind(df[df.exp_group == 1]['linearized_likes'], \n",
    "                                  df[df.exp_group == 2]['linearized_likes'], \n",
    "                                  equal_var=False)\n",
    "\n",
    "print(f\"T-test p-value (linearized likes): {p_value}\")"
   ]
  },
  {
   "cell_type": "code",
   "execution_count": 27,
   "id": "ff9227ad-33dc-40fc-9daf-f8bfee8588a1",
   "metadata": {},
   "outputs": [
    {
     "name": "stdout",
     "output_type": "stream",
     "text": [
      "T-test p-value (original CTR): 0.685373331140751\n"
     ]
    }
   ],
   "source": [
    "t_stat_ctr, p_value_ctr = stats.ttest_ind(df[df.exp_group == 1]['ctr'], \n",
    "                                          df[df.exp_group == 2]['ctr'], \n",
    "                                          equal_var=False)\n",
    "\n",
    "print(f\"T-test p-value (original CTR): {p_value_ctr}\")"
   ]
  },
  {
   "cell_type": "markdown",
   "id": "4909f705-bf27-429e-834c-e25a70fecef6",
   "metadata": {},
   "source": [
    "По результатам анализа:\n",
    "    p-value по пользовательскому CTR ≈ 0.68, следовательно различия между группами не являются статистически значимыми.\n",
    "    p-value по линеаризированным лайка ≈ 2.98e-09, следовательно различия между группами статистически значимы.\n",
    "\n",
    "Таким образом, линеаризация метрики значительно снизила p-value и повысила чувствительность теста. Это позволило выявить различия между группами, которые были незаметны при использовании обычного пользовательского CTR.\n"
   ]
  },
  {
   "cell_type": "code",
   "execution_count": null,
   "id": "0bca95f5-d63d-402b-b0a3-b6d3f48536ca",
   "metadata": {},
   "outputs": [],
   "source": []
  }
 ],
 "metadata": {
  "kernelspec": {
   "display_name": "Python 3 (ipykernel)",
   "language": "python",
   "name": "python3"
  },
  "language_info": {
   "codemirror_mode": {
    "name": "ipython",
    "version": 3
   },
   "file_extension": ".py",
   "mimetype": "text/x-python",
   "name": "python",
   "nbconvert_exporter": "python",
   "pygments_lexer": "ipython3",
   "version": "3.8.10"
  }
 },
 "nbformat": 4,
 "nbformat_minor": 5
}
